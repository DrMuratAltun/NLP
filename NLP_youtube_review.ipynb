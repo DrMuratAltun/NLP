{
 "cells": [
  {
   "cell_type": "markdown",
   "id": "dfd86838",
   "metadata": {},
   "source": [
    "# Youtube Review"
   ]
  },
  {
   "cell_type": "markdown",
   "id": "737a354e",
   "metadata": {},
   "source": [
    "This Notebook"
   ]
  },
  {
   "cell_type": "markdown",
   "id": "add3467b",
   "metadata": {},
   "source": [
    "### Import Libraries"
   ]
  },
  {
   "cell_type": "code",
   "execution_count": 1,
   "id": "4871e7dd",
   "metadata": {},
   "outputs": [],
   "source": [
    "import pandas as pd\n",
    "from sklearn.feature_extraction.text import CountVectorizer\n",
    "from sklearn.naive_bayes import BernoulliNB\n",
    "from sklearn.model_selection import train_test_split\n",
    "from sklearn.metrics import accuracy_score\n",
    "import pickle\n",
    "import numpy as np"
   ]
  },
  {
   "cell_type": "markdown",
   "id": "c5050305",
   "metadata": {},
   "source": [
    "### Load Data"
   ]
  },
  {
   "cell_type": "code",
   "execution_count": 2,
   "id": "2ba15d64",
   "metadata": {
    "collapsed": true
   },
   "outputs": [
    {
     "name": "stdout",
     "output_type": "stream",
     "text": [
      " Volume in drive C is Windows\n",
      " Volume Serial Number is 4821-D018\n",
      "\n",
      " Directory of C:\\Users\\emura\\Documents\\ABD_YZ_Kursu\\Day 7 NLP-2\n",
      "\n",
      "15.03.2024  13:21    <DIR>          .\n",
      "15.03.2024  09:54    <DIR>          ..\n",
      "04.03.2024  16:28    <DIR>          .ipynb_checkpoints\n",
      "10.03.2024  16:37            72.932 ay_yildiz.png\n",
      "11.03.2024  09:56    <DIR>          BTKKurs\n",
      "03.03.2024  01:10             3.876 challenge.txt\n",
      "15.03.2024  11:23            45.998 classification.pkl\n",
      "25.02.2024  08:06           959.319 en.yusufali.csv\n",
      "02.03.2024  23:26            16.647 extension.ipynb\n",
      "04.03.2024  13:46    <DIR>          flagged\n",
      "06.03.2024  11:42         1.135.009 gemma-hugging.pdf\n",
      "03.03.2024  23:47             1.483 genclige_hitabe.txt\n",
      "02.03.2024  22:59            41.639 house.png\n",
      "04.03.2024  00:19             2.226 istiklal_marsi.txt\n",
      "04.03.2024  15:36            66.808 NER- Named Entity Recognition.ipynb\n",
      "03.03.2024  01:10         1.086.136 nlp-in-python-tutorial-master.zip\n",
      "03.03.2024  01:11        29.604.153 NLP-with-Python-master.zip\n",
      "03.03.2024  01:04        91.564.191 quran dataset.ipynb\n",
      "04.03.2024  15:44           280.598 restorant.jpeg\n",
      "03.03.2024  00:16         1.273.408 Spam Classifier.ipynb\n",
      "25.02.2024  08:06           503.663 spam.csv\n",
      "04.03.2024  00:42         1.463.177 Style Cloud.ipynb\n",
      "10.03.2024  16:43            97.737 stylecloud.png\n",
      "03.03.2024  01:21            93.357 stylecloud2.png\n",
      "03.03.2024  23:46            92.906 stylecloud3.png\n",
      "03.03.2024  01:24           102.016 stylecloud4.png\n",
      "04.03.2024  16:41            34.175 twitter analyse (priced).ipynb\n",
      "15.03.2024  11:23            17.290 vectorizer.pkl\n",
      "01.03.2024  21:07            10.814 videolar.docx\n",
      "10.03.2024  16:38           295.559 Word-clou-Gradio_style_cloud.ipynb\n",
      "15.03.2024  13:21            19.972 youtube review NLP.ipynb\n",
      "25.02.2024  08:05            57.438 youtube.csv\n",
      "              27 File(s)    128.942.527 bytes\n",
      "               5 Dir(s)  30.377.979.904 bytes free\n"
     ]
    }
   ],
   "source": [
    "ls"
   ]
  },
  {
   "cell_type": "code",
   "execution_count": 2,
   "id": "5458172e",
   "metadata": {},
   "outputs": [],
   "source": [
    "df = pd.read_csv('youtube.csv',encoding='utf8')"
   ]
  },
  {
   "cell_type": "code",
   "execution_count": 3,
   "id": "dfdd4346",
   "metadata": {},
   "outputs": [
    {
     "data": {
      "text/html": [
       "<div>\n",
       "<style scoped>\n",
       "    .dataframe tbody tr th:only-of-type {\n",
       "        vertical-align: middle;\n",
       "    }\n",
       "\n",
       "    .dataframe tbody tr th {\n",
       "        vertical-align: top;\n",
       "    }\n",
       "\n",
       "    .dataframe thead th {\n",
       "        text-align: right;\n",
       "    }\n",
       "</style>\n",
       "<table border=\"1\" class=\"dataframe\">\n",
       "  <thead>\n",
       "    <tr style=\"text-align: right;\">\n",
       "      <th></th>\n",
       "      <th>COMMENT_ID</th>\n",
       "      <th>AUTHOR</th>\n",
       "      <th>DATE</th>\n",
       "      <th>CONTENT</th>\n",
       "      <th>CLASS</th>\n",
       "    </tr>\n",
       "  </thead>\n",
       "  <tbody>\n",
       "    <tr>\n",
       "      <th>0</th>\n",
       "      <td>LZQPQhLyRh80UYxNuaDWhIGQYNQ96IuCg-AYWqNPjpU</td>\n",
       "      <td>Julius NM</td>\n",
       "      <td>2013-11-07T06:20:48</td>\n",
       "      <td>Huh, anyway check out this you[tube] channel: ...</td>\n",
       "      <td>1</td>\n",
       "    </tr>\n",
       "    <tr>\n",
       "      <th>1</th>\n",
       "      <td>LZQPQhLyRh_C2cTtd9MvFRJedxydaVW-2sNg5Diuo4A</td>\n",
       "      <td>adam riyati</td>\n",
       "      <td>2013-11-07T12:37:15</td>\n",
       "      <td>Hey guys check out my new channel and our firs...</td>\n",
       "      <td>1</td>\n",
       "    </tr>\n",
       "    <tr>\n",
       "      <th>2</th>\n",
       "      <td>LZQPQhLyRh9MSZYnf8djyk0gEF9BHDPYrrK-qCczIY8</td>\n",
       "      <td>Evgeny Murashkin</td>\n",
       "      <td>2013-11-08T17:34:21</td>\n",
       "      <td>just for test I have to say murdev.com</td>\n",
       "      <td>1</td>\n",
       "    </tr>\n",
       "    <tr>\n",
       "      <th>3</th>\n",
       "      <td>z13jhp0bxqncu512g22wvzkasxmvvzjaz04</td>\n",
       "      <td>ElNino Melendez</td>\n",
       "      <td>2013-11-09T08:28:43</td>\n",
       "      <td>me shaking my sexy ass on my channel enjoy ^_^ ﻿</td>\n",
       "      <td>1</td>\n",
       "    </tr>\n",
       "    <tr>\n",
       "      <th>4</th>\n",
       "      <td>z13fwbwp1oujthgqj04chlngpvzmtt3r3dw</td>\n",
       "      <td>GsMega</td>\n",
       "      <td>2013-11-10T16:05:38</td>\n",
       "      <td>watch?v=vtaRGgvGtWQ   Check this out .﻿</td>\n",
       "      <td>1</td>\n",
       "    </tr>\n",
       "    <tr>\n",
       "      <th>5</th>\n",
       "      <td>LZQPQhLyRh9-wNRtlZDM90f1k0BrdVdJyN_YsaSwfxc</td>\n",
       "      <td>Jason Haddad</td>\n",
       "      <td>2013-11-26T02:55:11</td>\n",
       "      <td>Hey, check out my new website!! This site is a...</td>\n",
       "      <td>1</td>\n",
       "    </tr>\n",
       "    <tr>\n",
       "      <th>6</th>\n",
       "      <td>z13lfzdo5vmdi1cm123te5uz2mqig1brz04</td>\n",
       "      <td>ferleck ferles</td>\n",
       "      <td>2013-11-27T21:39:24</td>\n",
       "      <td>Subscribe to my channel ﻿</td>\n",
       "      <td>1</td>\n",
       "    </tr>\n",
       "    <tr>\n",
       "      <th>7</th>\n",
       "      <td>z122wfnzgt30fhubn04cdn3xfx2mxzngsl40k</td>\n",
       "      <td>Bob Kanowski</td>\n",
       "      <td>2013-11-28T12:33:27</td>\n",
       "      <td>i turned it on mute as soon is i came on i jus...</td>\n",
       "      <td>0</td>\n",
       "    </tr>\n",
       "    <tr>\n",
       "      <th>8</th>\n",
       "      <td>z13ttt1jcraqexk2o234ghbgzxymz1zzi04</td>\n",
       "      <td>Cony</td>\n",
       "      <td>2013-11-28T16:01:47</td>\n",
       "      <td>You should check my channel for Funny VIDEOS!!﻿</td>\n",
       "      <td>1</td>\n",
       "    </tr>\n",
       "  </tbody>\n",
       "</table>\n",
       "</div>"
      ],
      "text/plain": [
       "                                    COMMENT_ID            AUTHOR  \\\n",
       "0  LZQPQhLyRh80UYxNuaDWhIGQYNQ96IuCg-AYWqNPjpU         Julius NM   \n",
       "1  LZQPQhLyRh_C2cTtd9MvFRJedxydaVW-2sNg5Diuo4A       adam riyati   \n",
       "2  LZQPQhLyRh9MSZYnf8djyk0gEF9BHDPYrrK-qCczIY8  Evgeny Murashkin   \n",
       "3          z13jhp0bxqncu512g22wvzkasxmvvzjaz04   ElNino Melendez   \n",
       "4          z13fwbwp1oujthgqj04chlngpvzmtt3r3dw            GsMega   \n",
       "5  LZQPQhLyRh9-wNRtlZDM90f1k0BrdVdJyN_YsaSwfxc      Jason Haddad   \n",
       "6          z13lfzdo5vmdi1cm123te5uz2mqig1brz04    ferleck ferles   \n",
       "7        z122wfnzgt30fhubn04cdn3xfx2mxzngsl40k      Bob Kanowski   \n",
       "8          z13ttt1jcraqexk2o234ghbgzxymz1zzi04              Cony   \n",
       "\n",
       "                  DATE                                            CONTENT  \\\n",
       "0  2013-11-07T06:20:48  Huh, anyway check out this you[tube] channel: ...   \n",
       "1  2013-11-07T12:37:15  Hey guys check out my new channel and our firs...   \n",
       "2  2013-11-08T17:34:21             just for test I have to say murdev.com   \n",
       "3  2013-11-09T08:28:43   me shaking my sexy ass on my channel enjoy ^_^ ﻿   \n",
       "4  2013-11-10T16:05:38            watch?v=vtaRGgvGtWQ   Check this out .﻿   \n",
       "5  2013-11-26T02:55:11  Hey, check out my new website!! This site is a...   \n",
       "6  2013-11-27T21:39:24                          Subscribe to my channel ﻿   \n",
       "7  2013-11-28T12:33:27  i turned it on mute as soon is i came on i jus...   \n",
       "8  2013-11-28T16:01:47    You should check my channel for Funny VIDEOS!!﻿   \n",
       "\n",
       "   CLASS  \n",
       "0      1  \n",
       "1      1  \n",
       "2      1  \n",
       "3      1  \n",
       "4      1  \n",
       "5      1  \n",
       "6      1  \n",
       "7      0  \n",
       "8      1  "
      ]
     },
     "execution_count": 3,
     "metadata": {},
     "output_type": "execute_result"
    }
   ],
   "source": [
    "df.head(9)"
   ]
  },
  {
   "cell_type": "code",
   "execution_count": 4,
   "id": "36c896cb",
   "metadata": {},
   "outputs": [
    {
     "data": {
      "text/plain": [
       "('Huh, anyway check out this you[tube] channel: kobyoshi02', 1)"
      ]
     },
     "execution_count": 4,
     "metadata": {},
     "output_type": "execute_result"
    }
   ],
   "source": [
    "df['CONTENT'][0],df['CLASS'][0]"
   ]
  },
  {
   "cell_type": "code",
   "execution_count": 5,
   "id": "8484157f",
   "metadata": {},
   "outputs": [
    {
     "data": {
      "text/plain": [
       "'i turned it on mute as soon is i came on i just wanted to check the  views...\\ufeff'"
      ]
     },
     "execution_count": 5,
     "metadata": {},
     "output_type": "execute_result"
    }
   ],
   "source": [
    "str(df['CONTENT'][7])"
   ]
  },
  {
   "cell_type": "markdown",
   "id": "a93a9d73",
   "metadata": {},
   "source": [
    "# Text Preprocessing"
   ]
  },
  {
   "cell_type": "code",
   "execution_count": 6,
   "id": "8a724e63",
   "metadata": {},
   "outputs": [],
   "source": [
    "df=df[['CONTENT','CLASS']]"
   ]
  },
  {
   "cell_type": "code",
   "execution_count": 7,
   "id": "5c56c256",
   "metadata": {},
   "outputs": [
    {
     "data": {
      "text/html": [
       "<div>\n",
       "<style scoped>\n",
       "    .dataframe tbody tr th:only-of-type {\n",
       "        vertical-align: middle;\n",
       "    }\n",
       "\n",
       "    .dataframe tbody tr th {\n",
       "        vertical-align: top;\n",
       "    }\n",
       "\n",
       "    .dataframe thead th {\n",
       "        text-align: right;\n",
       "    }\n",
       "</style>\n",
       "<table border=\"1\" class=\"dataframe\">\n",
       "  <thead>\n",
       "    <tr style=\"text-align: right;\">\n",
       "      <th></th>\n",
       "      <th>CONTENT</th>\n",
       "      <th>CLASS</th>\n",
       "    </tr>\n",
       "  </thead>\n",
       "  <tbody>\n",
       "    <tr>\n",
       "      <th>0</th>\n",
       "      <td>Huh, anyway check out this you[tube] channel: ...</td>\n",
       "      <td>1</td>\n",
       "    </tr>\n",
       "    <tr>\n",
       "      <th>1</th>\n",
       "      <td>Hey guys check out my new channel and our firs...</td>\n",
       "      <td>1</td>\n",
       "    </tr>\n",
       "    <tr>\n",
       "      <th>2</th>\n",
       "      <td>just for test I have to say murdev.com</td>\n",
       "      <td>1</td>\n",
       "    </tr>\n",
       "    <tr>\n",
       "      <th>3</th>\n",
       "      <td>me shaking my sexy ass on my channel enjoy ^_^ ﻿</td>\n",
       "      <td>1</td>\n",
       "    </tr>\n",
       "    <tr>\n",
       "      <th>4</th>\n",
       "      <td>watch?v=vtaRGgvGtWQ   Check this out .﻿</td>\n",
       "      <td>1</td>\n",
       "    </tr>\n",
       "  </tbody>\n",
       "</table>\n",
       "</div>"
      ],
      "text/plain": [
       "                                             CONTENT  CLASS\n",
       "0  Huh, anyway check out this you[tube] channel: ...      1\n",
       "1  Hey guys check out my new channel and our firs...      1\n",
       "2             just for test I have to say murdev.com      1\n",
       "3   me shaking my sexy ass on my channel enjoy ^_^ ﻿      1\n",
       "4            watch?v=vtaRGgvGtWQ   Check this out .﻿      1"
      ]
     },
     "execution_count": 7,
     "metadata": {},
     "output_type": "execute_result"
    }
   ],
   "source": [
    "df.head()"
   ]
  },
  {
   "cell_type": "code",
   "execution_count": 8,
   "id": "849afa60",
   "metadata": {},
   "outputs": [],
   "source": [
    "X=np.array(df['CONTENT'])\n",
    "y=np.array(df['CLASS'])"
   ]
  },
  {
   "cell_type": "code",
   "execution_count": 9,
   "id": "df25030a",
   "metadata": {},
   "outputs": [],
   "source": [
    "vect=CountVectorizer()"
   ]
  },
  {
   "cell_type": "code",
   "execution_count": 10,
   "id": "9d2e40d1",
   "metadata": {},
   "outputs": [],
   "source": [
    "X=vect.fit_transform(X)"
   ]
  },
  {
   "cell_type": "code",
   "execution_count": 11,
   "id": "f5008896",
   "metadata": {},
   "outputs": [],
   "source": [
    "X_train,X_test,y_train,y_test=train_test_split(X,y,test_size=.2, random_state=42)"
   ]
  },
  {
   "cell_type": "markdown",
   "id": "1832ad24",
   "metadata": {},
   "source": [
    "### Modelling"
   ]
  },
  {
   "cell_type": "code",
   "execution_count": 12,
   "id": "e5b8c1aa",
   "metadata": {},
   "outputs": [],
   "source": [
    "bNB=BernoulliNB()"
   ]
  },
  {
   "cell_type": "code",
   "execution_count": 13,
   "id": "5179cd18",
   "metadata": {},
   "outputs": [],
   "source": [
    "model=bNB.fit(X_train,y_train)"
   ]
  },
  {
   "cell_type": "markdown",
   "id": "1829202d",
   "metadata": {},
   "source": [
    "### Evulation"
   ]
  },
  {
   "cell_type": "code",
   "execution_count": 14,
   "id": "2a2e3132",
   "metadata": {},
   "outputs": [],
   "source": [
    "predicts=model.predict(X_test)"
   ]
  },
  {
   "cell_type": "code",
   "execution_count": 15,
   "id": "77f29b16",
   "metadata": {},
   "outputs": [
    {
     "data": {
      "text/plain": [
       "0.9857142857142858"
      ]
     },
     "execution_count": 15,
     "metadata": {},
     "output_type": "execute_result"
    }
   ],
   "source": [
    "accuracy_score(predicts,y_test)"
   ]
  },
  {
   "cell_type": "code",
   "execution_count": 17,
   "id": "c1e591ef",
   "metadata": {},
   "outputs": [],
   "source": [
    "# Save model"
   ]
  },
  {
   "cell_type": "code",
   "execution_count": 18,
   "id": "719cac14",
   "metadata": {},
   "outputs": [],
   "source": [
    "import pickle"
   ]
  },
  {
   "cell_type": "code",
   "execution_count": 19,
   "id": "e4a43318",
   "metadata": {},
   "outputs": [],
   "source": [
    "pickle.dump(model,open('classification.pkl', 'wb'))"
   ]
  },
  {
   "cell_type": "code",
   "execution_count": 20,
   "id": "7e778f42",
   "metadata": {},
   "outputs": [],
   "source": [
    "pickle.dump(vect, open('vectorizer.pkl', 'wb'))"
   ]
  },
  {
   "cell_type": "markdown",
   "id": "833889ef",
   "metadata": {},
   "source": [
    "### Deploy"
   ]
  },
  {
   "cell_type": "code",
   "execution_count": 23,
   "id": "6bdbe557",
   "metadata": {},
   "outputs": [],
   "source": [
    "loaded_model = pickle.load(open('classification.pkl', 'rb'))\n",
    "loaded_vect = pickle.load(open('vectorizer.pkl', 'rb'))"
   ]
  },
  {
   "cell_type": "code",
   "execution_count": 25,
   "id": "c529dbfc",
   "metadata": {},
   "outputs": [],
   "source": [
    "# Yeni bir yorum\n",
    "new_review = \"Check this out my video https://www.cnn.com\"\n",
    "new_review_vect = loaded_vect.transform([new_review])  # Yeni yorumu vektöre dönüştür\n"
   ]
  },
  {
   "cell_type": "code",
   "execution_count": 26,
   "id": "c0a6c5e8",
   "metadata": {},
   "outputs": [
    {
     "name": "stdout",
     "output_type": "stream",
     "text": [
      "Prediction for the new review: [1]\n"
     ]
    }
   ],
   "source": [
    "prediction = loaded_model.predict(new_review_vect)\n",
    "print(f\"Prediction for the new review: {prediction}\")"
   ]
  },
  {
   "cell_type": "markdown",
   "id": "bdc33803",
   "metadata": {},
   "source": [
    "### WEB"
   ]
  },
  {
   "cell_type": "code",
   "execution_count": 27,
   "id": "d5fefcfd",
   "metadata": {},
   "outputs": [
    {
     "name": "stdout",
     "output_type": "stream",
     "text": [
      "Running on local URL:  http://127.0.0.1:7860\n",
      "Running on public URL: https://2aa2f657fedd03b409.gradio.live\n",
      "\n",
      "This share link expires in 72 hours. For free permanent hosting and GPU upgrades, run `gradio deploy` from Terminal to deploy to Spaces (https://huggingface.co/spaces)\n"
     ]
    },
    {
     "data": {
      "text/html": [
       "<div><iframe src=\"https://2aa2f657fedd03b409.gradio.live\" width=\"100%\" height=\"500\" allow=\"autoplay; camera; microphone; clipboard-read; clipboard-write;\" frameborder=\"0\" allowfullscreen></iframe></div>"
      ],
      "text/plain": [
       "<IPython.core.display.HTML object>"
      ]
     },
     "metadata": {},
     "output_type": "display_data"
    },
    {
     "data": {
      "text/plain": []
     },
     "execution_count": 27,
     "metadata": {},
     "output_type": "execute_result"
    }
   ],
   "source": [
    "import gradio as gr\n",
    "import pickle\n",
    "\n",
    "# Modeli ve vektörleştiriciyi yükle\n",
    "model = pickle.load(open('classification.pkl', 'rb'))\n",
    "vect = pickle.load(open('vectorizer.pkl', 'rb'))\n",
    "\n",
    "def predict_spam(review):\n",
    "    # Yorumu vektöre dönüştür\n",
    "    review_vect = vect.transform([review])\n",
    "    # Tahmin yap\n",
    "    prediction = model.predict(review_vect)\n",
    "    # Tahmin sonucunu döndür\n",
    "    return \"Spam\" if prediction[0] == 1 else \"Not Spam\"\n",
    "\n",
    "# Gradio arayüzünü oluştur\n",
    "interface = gr.Interface(fn=predict_spam, \n",
    "                         inputs=gr.Textbox(lines=2, placeholder=\"Enter a review...\"), \n",
    "                         outputs=\"text\",\n",
    "                         title=\"YouTube Comment Spam Detector\",\n",
    "                         description=\"This tool predicts whether a YouTube comment is spam. Developed by @drmurataltun.\")\n",
    "\n",
    "\n",
    "# Arayüzü başlat, share=True ile internet üzerinden erişilebilir hale getir\n",
    "interface.launch(share=True)"
   ]
  },
  {
   "cell_type": "code",
   "execution_count": null,
   "id": "694ef761",
   "metadata": {},
   "outputs": [],
   "source": []
  }
 ],
 "metadata": {
  "kernelspec": {
   "display_name": "Python 3 (ipykernel)",
   "language": "python",
   "name": "python3"
  },
  "language_info": {
   "codemirror_mode": {
    "name": "ipython",
    "version": 3
   },
   "file_extension": ".py",
   "mimetype": "text/x-python",
   "name": "python",
   "nbconvert_exporter": "python",
   "pygments_lexer": "ipython3",
   "version": "3.11.5"
  }
 },
 "nbformat": 4,
 "nbformat_minor": 5
}
